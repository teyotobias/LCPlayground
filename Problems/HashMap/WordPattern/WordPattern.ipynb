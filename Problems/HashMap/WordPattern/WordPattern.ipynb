{
 "cells": [
  {
   "cell_type": "markdown",
   "metadata": {},
   "source": [
    "290. Word Pattern\n",
    "https://leetcode.com/problems/word-pattern/?envType=study-plan-v2&envId=top-interview-150\n",
    "\n",
    "\n",
    "Given a pattern and a string s, find if s follows the same pattern.\n",
    "\n",
    "Here follow means a full match, such that there is a bijection between a letter in pattern and a non-empty word in s.\n",
    "\n",
    " \n",
    "\n",
    "Example 1:\n",
    "\n",
    "Input: pattern = \"abba\", s = \"dog cat cat dog\"\n",
    "Output: true\n",
    "Example 2:\n",
    "\n",
    "Input: pattern = \"abba\", s = \"dog cat cat fish\"\n",
    "Output: false\n",
    "Example 3:\n",
    "\n",
    "Input: pattern = \"aaaa\", s = \"dog cat cat dog\"\n",
    "Output: false\n",
    " \n",
    "\n",
    "Constraints:\n",
    "\n",
    "1 <= pattern.length <= 300\n",
    "pattern contains only lower-case English letters.\n",
    "1 <= s.length <= 3000\n",
    "s contains only lowercase English letters and spaces ' '.\n",
    "s does not contain any leading or trailing spaces.\n",
    "All the words in s are separated by a single space.\n",
    "Accepted\n",
    "618,952\n",
    "Submissions\n"
   ]
  }
 ],
 "metadata": {
  "language_info": {
   "name": "python"
  },
  "orig_nbformat": 4
 },
 "nbformat": 4,
 "nbformat_minor": 2
}
