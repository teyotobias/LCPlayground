{
 "cells": [
  {
   "cell_type": "markdown",
   "metadata": {},
   "source": [
    "383. Ransom Note\n",
    "\n",
    "Given two strings ransomNote and magazine, return true if ransomNote can be constructed by using the letters from magazine and false otherwise.\n",
    "\n",
    "Each letter in magazine can only be used once in ransomNote.\n",
    "\n",
    "Example 1:\n",
    "Input: ransomNote = \"a\", magazine = \"b\"\n",
    "Output: false\n",
    "\n",
    "Example 2:\n",
    "Input: ransomNote = \"aa\", magazine = \"ab\"\n",
    "Output: false\n",
    "\n",
    "Example 3:\n",
    "Input: ransomNote = \"aa\", magazine = \"aab\"\n",
    "Output: true\n",
    " \n",
    "\n",
    "Constraints:\n",
    "1 <= ransomNote.length, magazine.length <= 105\n",
    "ransomNote and magazine consist of lowercase English letters."
   ]
  }
 ],
 "metadata": {
  "language_info": {
   "name": "python"
  },
  "orig_nbformat": 4
 },
 "nbformat": 4,
 "nbformat_minor": 2
}
