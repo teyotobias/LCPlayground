{
 "cells": [
  {
   "cell_type": "code",
   "execution_count": null,
   "metadata": {},
   "outputs": [],
   "source": [
    "from LinkedListCycle import hasCycle\n",
    "\n",
    "test_cases = [\n",
    "    ([3,2,0,-4], True),\n",
    "    ([1,2], True),\n",
    "    ([1], False)\n",
    "]\n",
    "\n",
    "def run_tests():\n",
    "    for i, (head, expected) in enumerate(test_cases, start=1):\n",
    "        result = hasCycle(head)\n",
    "        assert result == expected, f\"Test case {i} failed: expected {expected}, got {result}\"\n",
    "        print(f\"Test case {i} passed.\")\n",
    "run_tests()\n",
    "\n",
    "\n",
    "#test cases will not pass because of linkedlist setup.\n",
    "\n",
    "# just using for testing practice"
   ]
  },
  {
   "cell_type": "markdown",
   "metadata": {},
   "source": [
    "141. Linked List Cycle\n",
    "\n",
    "Given head, the head of a linked list, determine if the linked list has a cycle in it.\n",
    "\n",
    "There is a cycle in a linked list if there is some node in the list that can be reached again by continuously following the next pointer. Internally, pos is used to denote the index of the node that tail's next pointer is connected to. Note that pos is not passed as a parameter.\n",
    "\n",
    "Return true if there is a cycle in the linked list. Otherwise, return false.\n",
    "\n",
    "Input: head = [3,2,0,-4], pos = 1\n",
    "Output: true\n",
    "Explanation: There is a cycle in the linked list, where the tail connects to the 1st node (0-indexed)."
   ]
  }
 ],
 "metadata": {
  "kernelspec": {
   "display_name": "base",
   "language": "python",
   "name": "python3"
  },
  "language_info": {
   "codemirror_mode": {
    "name": "ipython",
    "version": 3
   },
   "file_extension": ".py",
   "mimetype": "text/x-python",
   "name": "python",
   "nbconvert_exporter": "python",
   "pygments_lexer": "ipython3",
   "version": "3.11.4"
  },
  "orig_nbformat": 4
 },
 "nbformat": 4,
 "nbformat_minor": 2
}
