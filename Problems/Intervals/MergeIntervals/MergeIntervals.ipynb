{
 "cells": [
  {
   "cell_type": "code",
   "execution_count": null,
   "metadata": {},
   "outputs": [],
   "source": [
    "from MergeIntervals import mergeIntervals"
   ]
  },
  {
   "cell_type": "code",
   "execution_count": null,
   "metadata": {},
   "outputs": [],
   "source": [
    "test_cases = [\n",
    "    ([[1,3],[2,6],[8,10],[15,18]], [[1,6],[8,10],[15,18]]),\n",
    "    ([[1,4],[4,5]], [[1,5]]),\n",
    "    # Add more test cases here\n",
    "]\n",
    "\n",
    "def run_tests():\n",
    "    for i, (intervals, expected) in enumerate(test_cases, start=1):\n",
    "        result = mergeIntervals(intervals)\n",
    "        assert result == expected, f\"Test case {i} failed: expected {expected}\""
   ]
  },
  {
   "cell_type": "markdown",
   "metadata": {},
   "source": [
    "56. Merge Intervals\n",
    "Medium\n",
    "\n",
    "21269\n",
    "\n",
    "727\n",
    "\n",
    "Add to List\n",
    "\n",
    "Share\n",
    "Given an array of intervals where intervals[i] = [starti, endi], merge all overlapping intervals, and return an array of the non-overlapping intervals that cover all the intervals in the input.\n",
    "\n",
    " \n",
    "\n",
    "Example 1:\n",
    "\n",
    "Input: intervals = [[1,3],[2,6],[8,10],[15,18]]\n",
    "Output: [[1,6],[8,10],[15,18]]\n",
    "Explanation: Since intervals [1,3] and [2,6] overlap, merge them into [1,6].\n",
    "Example 2:\n",
    "\n",
    "Input: intervals = [[1,4],[4,5]]\n",
    "Output: [[1,5]]\n",
    "Explanation: Intervals [1,4] and [4,5] are considered overlapping.\n",
    " \n",
    "\n",
    "Constraints:\n",
    "\n",
    "1 <= intervals.length <= 104\n",
    "intervals[i].length == 2\n",
    "0 <= starti <= endi <= 104\n",
    "Accepted\n",
    "2.1M\n",
    "Submissions\n",
    "4.6M"
   ]
  }
 ],
 "metadata": {
  "language_info": {
   "name": "python"
  },
  "orig_nbformat": 4
 },
 "nbformat": 4,
 "nbformat_minor": 2
}
