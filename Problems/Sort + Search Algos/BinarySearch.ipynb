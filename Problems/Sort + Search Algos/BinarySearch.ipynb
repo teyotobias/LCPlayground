{
 "cells": [
  {
   "cell_type": "code",
   "execution_count": 7,
   "metadata": {},
   "outputs": [],
   "source": [
    "#Best case runtime O(1) - finds it right away\n",
    "#average, and worst case runtimes all O(logn)\n",
    "\n",
    "#base case: nums is empty\n",
    "\n",
    "def search(nums, target):\n",
    "        return binarySearch(nums, target, 0)\n",
    "    \n",
    "#need to keep track of start idx to return correct idx\n",
    "def binarySearch(nums, target, start):\n",
    "    if not nums:\n",
    "        return -1\n",
    "    midIndex = len(nums) // 2\n",
    "    mid = nums[midIndex]\n",
    "    if target == mid:\n",
    "        return start + midIndex\n",
    "    elif target > mid:\n",
    "        return binarySearch(nums[midIndex+1:], target, start+midIndex+1)\n",
    "    else:\n",
    "        return binarySearch(nums[:midIndex], target, start)"
   ]
  },
  {
   "cell_type": "markdown",
   "metadata": {},
   "source": [
    "Test"
   ]
  },
  {
   "cell_type": "code",
   "execution_count": 8,
   "metadata": {},
   "outputs": [
    {
     "name": "stdout",
     "output_type": "stream",
     "text": [
      "4\n"
     ]
    }
   ],
   "source": [
    "nums = [-1, 0, 3, 5, 9, 12]\n",
    "\n",
    "answer = search(nums, 9)\n",
    "print(answer)\n"
   ]
  },
  {
   "cell_type": "markdown",
   "metadata": {},
   "source": [
    "704. Binary Search\n",
    "Easy\n",
    "Given an array of integers nums which is sorted in ascending order, and an integer target, write a function to search target in nums. If target exists, then return its index. Otherwise, return -1.\n",
    "\n",
    "You must write an algorithm with O(log n) runtime complexity.\n",
    "Example 1:\n",
    "\n",
    "Input: nums = [-1,0,3,5,9,12], target = 9\n",
    "Output: 4\n",
    "Explanation: 9 exists in nums and its index is 4\n",
    "Example 2:\n",
    "\n",
    "Input: nums = [-1,0,3,5,9,12], target = 2\n",
    "Output: -1\n",
    "Explanation: 2 does not exist in nums so return -1\n",
    " \n",
    "\n",
    "Constraints:\n",
    "\n",
    "1 <= nums.length <= 104\n",
    "-104 < nums[i], target < 104\n",
    "All the integers in nums are unique.\n",
    "nums is sorted in ascending order."
   ]
  }
 ],
 "metadata": {
  "kernelspec": {
   "display_name": "my_new_env",
   "language": "python",
   "name": "python3"
  },
  "language_info": {
   "codemirror_mode": {
    "name": "ipython",
    "version": 3
   },
   "file_extension": ".py",
   "mimetype": "text/x-python",
   "name": "python",
   "nbconvert_exporter": "python",
   "pygments_lexer": "ipython3",
   "version": "3.11.4"
  },
  "orig_nbformat": 4
 },
 "nbformat": 4,
 "nbformat_minor": 2
}
