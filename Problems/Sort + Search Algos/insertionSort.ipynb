{
 "cells": [
  {
   "cell_type": "markdown",
   "metadata": {},
   "source": [
    "Description: Insertion Sort is a simple sorting algorithm that builds the final sorted array (or list) one item at a time. It works similarly to how you might sort playing cards in your hands.\n",
    "The array is virtually split into a sorted and an unsorted part.\n",
    "Values from the unsorted part are picked and placed at the correct position in the sorted part.\n",
    "Algorithm:\n",
    "\n",
    "Iterate from arr[1] to arr[n] over the array.\n",
    "\n",
    "Compare the current element (key) to its predecessor.\n",
    "\n",
    "If the key element is smaller than its predecessor, compare it to the elements before. Move the greater elements one position up to make space for the swapped element."
   ]
  },
  {
   "cell_type": "code",
   "execution_count": 3,
   "metadata": {},
   "outputs": [],
   "source": [
    "#Best case: O(n) where array is already or almost completely sorted\n",
    "#Average and Worst case: O(n^2) where half or all of them are out of order.\n",
    "\n",
    "#very similar to selectionSort except it replaces as it goes.\n",
    "#almost slipped up, arr[i] won't be in i anymore -> save it to a var\n",
    "def insertionSort(arr):\n",
    "    for i in range(1, len(arr)):\n",
    "        curr = arr[i]\n",
    "        j = i - 1\n",
    "        while j >= 0 and curr < arr[j]:\n",
    "            arr[j+1] = arr[j]\n",
    "            j -= 1\n",
    "        arr[j+1] = curr\n",
    "    \n"
   ]
  },
  {
   "cell_type": "markdown",
   "metadata": {},
   "source": [
    "Test"
   ]
  },
  {
   "cell_type": "code",
   "execution_count": 4,
   "metadata": {},
   "outputs": [
    {
     "name": "stdout",
     "output_type": "stream",
     "text": [
      "[2, 3, 4, 5, 7, 8, 10, 15]\n"
     ]
    }
   ],
   "source": [
    "input = [3,2,7,5,10,8,15,4]\n",
    "\n",
    "insertionSort(input)\n",
    "print(input)"
   ]
  }
 ],
 "metadata": {
  "kernelspec": {
   "display_name": "base",
   "language": "python",
   "name": "python3"
  },
  "language_info": {
   "codemirror_mode": {
    "name": "ipython",
    "version": 3
   },
   "file_extension": ".py",
   "mimetype": "text/x-python",
   "name": "python",
   "nbconvert_exporter": "python",
   "pygments_lexer": "ipython3",
   "version": "3.11.4"
  },
  "orig_nbformat": 4
 },
 "nbformat": 4,
 "nbformat_minor": 2
}
