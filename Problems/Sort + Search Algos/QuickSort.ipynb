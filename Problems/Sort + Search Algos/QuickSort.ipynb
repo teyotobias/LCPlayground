{
 "cells": [
  {
   "cell_type": "markdown",
   "metadata": {},
   "source": [
    "Description:\n",
    "Quick Sort is a highly efficient sorting algorithm and is based on partitioning of array of data into smaller arrays.\n",
    "A large array is partitioned into two arrays, one of which holds values smaller than the specified value, say pivot, based on which the partition is made, and another array holds values greater than the pivot value.\n",
    "Quick Sort partitions an array and then calls itself recursively twice to sort the two resulting subarrays.\n",
    "This algorithm is quite efficient for large-sized data sets and is often considered faster than merge sort and heap sort.\n",
    "Algorithm:\n",
    "\n",
    "Choose a pivot element from the array. The choice of pivot can be done in different ways: always pick the first element, always pick the last element, pick a random element, pick the median, etc.\n",
    "\n",
    "Rearrange the elements in such a way that elements that are less than the pivot are on the left, and elements greater than the pivot are on the right.\n",
    "\n",
    "After this step, the pivot is in its final position. This is called the partition operation.\n",
    "Recursively apply the above steps to the sub-array of elements with smaller values and separately to the sub-array of elements with greater values."
   ]
  },
  {
   "cell_type": "code",
   "execution_count": 5,
   "metadata": {},
   "outputs": [],
   "source": [
    "#creates another array\n",
    "#Worst case: O(n^2)\n",
    "#Average case: O(nlogn)\n",
    "#Best case: O(nlogn)\n",
    "def quickSort(nums):\n",
    "    if len(nums) <= 1:\n",
    "        return nums\n",
    "    pivot = nums[0]\n",
    "    left = [x for x in nums[1:] if x <= pivot]\n",
    "    right = [x for x in nums[1:] if x > pivot]\n",
    "    \n",
    "    return quickSort(left) + [pivot] + quickSort(right)"
   ]
  },
  {
   "cell_type": "markdown",
   "metadata": {},
   "source": [
    "Test"
   ]
  },
  {
   "cell_type": "code",
   "execution_count": 7,
   "metadata": {},
   "outputs": [
    {
     "name": "stdout",
     "output_type": "stream",
     "text": [
      "[2, 3, 4, 5, 7, 8, 10, 15]\n"
     ]
    }
   ],
   "source": [
    "input = [3,2,7,5,10,8,15,4]\n",
    "\n",
    "output = quickSort(input)\n",
    "print(output)"
   ]
  }
 ],
 "metadata": {
  "kernelspec": {
   "display_name": "base",
   "language": "python",
   "name": "python3"
  },
  "language_info": {
   "codemirror_mode": {
    "name": "ipython",
    "version": 3
   },
   "file_extension": ".py",
   "mimetype": "text/x-python",
   "name": "python",
   "nbconvert_exporter": "python",
   "pygments_lexer": "ipython3",
   "version": "3.11.4"
  },
  "orig_nbformat": 4
 },
 "nbformat": 4,
 "nbformat_minor": 2
}
