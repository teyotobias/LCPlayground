{
 "cells": [
  {
   "cell_type": "markdown",
   "metadata": {},
   "source": [
    "Merge Sort is a divide-and-conquer algorithm that sorts an array by dividing it into smaller subarrays, sorting those subarrays, and then merging them back together. Here are the key steps involved in Merge Sort:\n",
    "\n",
    "Divide: The array is divided into two halves. This is usually done by finding the middle of the array.\n",
    "\n",
    "Conquer (Recursive Sort): Each half is sorted recursively, using Merge Sort. This recursive division continues until each subarray has only one element (or no elements, in the case of an empty array), at which point it is considered sorted.\n",
    "\n",
    "Merge: The sorted subarrays are merged back together to form a sorted array. This step involves comparing elements of the subarrays and putting them into the correct order in a new array, or back into the original array.\n",
    "\n",
    "\n",
    "base case: len(arr) = 1 -> don't do anything\n",
    "inputs: only one - array"
   ]
  },
  {
   "cell_type": "code",
   "execution_count": 10,
   "metadata": {},
   "outputs": [],
   "source": [
    "#Best, Average, and Worst cases all O(nlogn)\n",
    "def mergeSort(arr):\n",
    "    if len(arr) <= 1:\n",
    "        return\n",
    "    \n",
    "    mid = len(arr) // 2\n",
    "    L = arr[:mid]\n",
    "    R = arr[mid:]\n",
    "    mergeSort(L)\n",
    "    mergeSort(R)\n",
    "\n",
    "    i = 0; j = 0; k = 0\n",
    "    #i,j,k = 0,0,0\n",
    "\n",
    "    while i < len(L) and j < len(R):\n",
    "        if L[i] <= R[j]:\n",
    "            arr[k] = L[i]\n",
    "            i += 1\n",
    "        else:\n",
    "            arr[k] = R[j]\n",
    "            j += 1\n",
    "        k += 1\n",
    "    \n",
    "    while i < len(L):\n",
    "        arr[k] = L[i]\n",
    "        i += 1\n",
    "        k += 1\n",
    "    while j < len(R):\n",
    "        arr[k] = R[j]\n",
    "        j += 1\n",
    "        k += 1\n",
    "    \n",
    "\n",
    "    "
   ]
  },
  {
   "cell_type": "markdown",
   "metadata": {},
   "source": [
    "Test"
   ]
  },
  {
   "cell_type": "code",
   "execution_count": 11,
   "metadata": {},
   "outputs": [
    {
     "name": "stdout",
     "output_type": "stream",
     "text": [
      "Result:[5, 6, 7, 11, 12, 13]\n"
     ]
    }
   ],
   "source": [
    "input = [12,11,13,5,6,7]\n",
    "mergeSort(input)\n",
    "print(\"Result:\" + str(input))"
   ]
  }
 ],
 "metadata": {
  "kernelspec": {
   "display_name": "base",
   "language": "python",
   "name": "python3"
  },
  "language_info": {
   "codemirror_mode": {
    "name": "ipython",
    "version": 3
   },
   "file_extension": ".py",
   "mimetype": "text/x-python",
   "name": "python",
   "nbconvert_exporter": "python",
   "pygments_lexer": "ipython3",
   "version": "3.11.4"
  },
  "orig_nbformat": 4
 },
 "nbformat": 4,
 "nbformat_minor": 2
}
