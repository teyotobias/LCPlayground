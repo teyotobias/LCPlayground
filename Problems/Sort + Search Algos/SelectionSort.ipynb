{
 "cells": [
  {
   "cell_type": "markdown",
   "metadata": {},
   "source": [
    "Description: Selection Sort is a simple sorting algorithm. This sorting algorithm is an in-place comparison-based algorithm in which the list is divided into two parts, the sorted part at the left end and the unsorted part at the right end.\n",
    "Initially, the sorted part is empty and the unsorted part is the entire list.\n",
    "Algorithm:\n",
    "\n",
    "The smallest element is selected from the unsorted array and swapped with the leftmost element, and that element becomes a part of the sorted array.\n",
    "\n",
    "This process continues moving unsorted array boundary by one element to the right."
   ]
  },
  {
   "cell_type": "code",
   "execution_count": 1,
   "metadata": {},
   "outputs": [],
   "source": [
    "#Best case, average case, and worst case all the same: O(n^2) you're finding the minimum no matter what\n",
    "\n",
    "#very similar to insertion sort but has nested for loops to find min element\n",
    "def selectionSort(arr):\n",
    "    for i in range(len(arr)):\n",
    "        min_idx = i\n",
    "        for j in range(i+1, len(arr)):\n",
    "            if arr[j] < arr[min_idx]:\n",
    "                min_idx = j\n",
    "        if min_idx != i:\n",
    "            temp = arr[i]\n",
    "            arr[i] = arr[min_idx]\n",
    "            arr[min_idx] = temp\n",
    "    "
   ]
  },
  {
   "cell_type": "markdown",
   "metadata": {},
   "source": [
    "Test"
   ]
  },
  {
   "cell_type": "code",
   "execution_count": 2,
   "metadata": {},
   "outputs": [
    {
     "name": "stdout",
     "output_type": "stream",
     "text": [
      "[2, 3, 4, 5, 7, 8, 10, 15]\n"
     ]
    }
   ],
   "source": [
    "input = [3,2,7,5,10,8,15,4]\n",
    "\n",
    "selectionSort(input)\n",
    "print(input)"
   ]
  }
 ],
 "metadata": {
  "kernelspec": {
   "display_name": "base",
   "language": "python",
   "name": "python3"
  },
  "language_info": {
   "codemirror_mode": {
    "name": "ipython",
    "version": 3
   },
   "file_extension": ".py",
   "mimetype": "text/x-python",
   "name": "python",
   "nbconvert_exporter": "python",
   "pygments_lexer": "ipython3",
   "version": "3.11.4"
  },
  "orig_nbformat": 4
 },
 "nbformat": 4,
 "nbformat_minor": 2
}
