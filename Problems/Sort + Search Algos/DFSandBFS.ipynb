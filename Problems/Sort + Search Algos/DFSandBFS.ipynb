{
 "cells": [
  {
   "cell_type": "markdown",
   "metadata": {},
   "source": [
    "CODE BELOW\n",
    "\n",
    "\n",
    "Depth-First Search (DFS)\n",
    "Traversal Order: DFS explores as far as possible along each branch before backtracking. It visits a node, then recursively explores each of its children and their subtrees before moving to the next child. This means it goes deep into the tree first, before exploring siblings.\n",
    "\n",
    "Data Structure: The DFS implementation uses recursion, which implicitly leverages the call stack to keep track of the nodes to be visited next. Each call to depth_first_search handles a node and then makes recursive calls to its children, which get added to the call stack.\n",
    "\n",
    "Use Cases: DFS is typically used when you want to explore the full depth of a branch before moving to another branch. It's beneficial in scenarios like solving puzzles, pathfinding (where the solution is deep), and tree-based operations where the hierarchy matters.\n",
    "\n",
    "Breadth-First Search (BFS)\n",
    "Traversal Order: BFS explores all nodes at one level before moving to the next level. It processes nodes level by level, starting at the root and moving outward. This means it explores sibling nodes before moving on to children nodes.\n",
    "\n",
    "Data Structure: The BFS implementation uses a queue (a deque from Python's collections module). The queue keeps track of the nodes at the current level being processed. As each node is processed, its children are added to the end of the queue, ensuring that nodes are visited in a level-order manner.\n",
    "\n",
    "Use Cases: BFS is often used in scenarios where the shortest path is required, like in the shortest path in a graph, or for level-by-level traversal or searching in trees. It's also used in algorithms that require processing nodes in a level order (e.g., tree level order traversal).\n",
    "\n",
    "In summary, the core difference lies in their approach: DFS goes deep into the tree first and uses a stack (implicitly via recursion), while BFS goes wide, exploring all nodes at one level before descending to the next level, using a queue to manage the nodes.\n",
    "\n",
    "\n",
    "\n",
    "\n"
   ]
  },
  {
   "cell_type": "code",
   "execution_count": 3,
   "metadata": {},
   "outputs": [],
   "source": [
    "from collections import deque\n",
    "class TreeNode:\n",
    "\n",
    "    def __init__(self, value):\n",
    "        self.value = value\n",
    "        self.children = []\n",
    "\n",
    "    def add_child(self, child_node):\n",
    "        self.children.append(child_node)\n",
    "\n",
    "    def __repr__(self):\n",
    "        return f\"TreeNode({self.value})\"\n",
    "    \n",
    "    #very simple in python\n",
    "    #\n",
    "    #processes children first -> goes all the way down without processing any yet, then processes leaf + backtracks\n",
    "    def DFS(self, node):\n",
    "        if not node:\n",
    "            return\n",
    "        print(node.value)\n",
    "        for child in node.children:\n",
    "            self.DFS(child)\n",
    "        \n",
    "    \n",
    "    #process siblings first: left right left right etc\n",
    "    def BFS(self, root):\n",
    "        if not root:\n",
    "            return\n",
    "        queue = deque([root])\n",
    "\n",
    "        while queue:\n",
    "            node = queue.popleft()\n",
    "            print(node.value)\n",
    "\n",
    "            for child in node.children:\n",
    "                queue.append(child)\n"
   ]
  },
  {
   "cell_type": "markdown",
   "metadata": {},
   "source": [
    "Test"
   ]
  },
  {
   "cell_type": "code",
   "execution_count": 6,
   "metadata": {},
   "outputs": [
    {
     "name": "stdout",
     "output_type": "stream",
     "text": [
      "BFS: \n",
      "A\n",
      "B\n",
      "C\n",
      "D\n",
      "E\n",
      "F\n",
      "DFS: \n",
      "A\n",
      "B\n",
      "D\n",
      "E\n",
      "C\n",
      "F\n"
     ]
    }
   ],
   "source": [
    "# Creating the tree\n",
    "root = TreeNode('A')\n",
    "nodeB = TreeNode('B')\n",
    "nodeC = TreeNode('C')\n",
    "nodeD = TreeNode('D')\n",
    "nodeE = TreeNode('E')\n",
    "nodeF = TreeNode('F')\n",
    "\n",
    "root.add_child(nodeB)\n",
    "root.add_child(nodeC)\n",
    "nodeB.add_child(nodeD)\n",
    "nodeB.add_child(nodeE)\n",
    "nodeC.add_child(nodeF)\n",
    "print(\"BFS: \")\n",
    "root.BFS(root) #actual: A B C D E F\n",
    "print(\"DFS: \")\n",
    "\n",
    "root.DFS(root) #actual: A B D E C F\n"
   ]
  },
  {
   "cell_type": "markdown",
   "metadata": {},
   "source": [
    "Decque:\n",
    "\n",
    "A deque (double-ended queue) is a data structure available in Python's collections module. It is similar to a list, but with faster appends and pops from both ends. The deque is implemented with a doubly linked list, which optimizes it for adding and removing elements from both the front and back ends, making it ideal for queues and stacks where elements are frequently added and removed from both ends.\n",
    "\n",
    "Here are some of the key functions and operations associated with a deque:\n",
    "\n",
    "Initialization:\n",
    "\n",
    "deque([iterable[, maxlen]]): Creates a deque object. An optional iterable can be used to initialize the deque. The optional maxlen argument sets a limit to the number of elements that can be stored in the deque. If more items are added when the deque is full, items from the opposite end are discarded.\n",
    "Adding Elements:\n",
    "\n",
    "append(x): Add x to the right side of the deque.\n",
    "appendleft(x): Add x to the left side of the deque.\n",
    "Removing Elements:\n",
    "\n",
    "pop(): Remove and return an element from the right side. Raises an IndexError if the deque is empty.\n",
    "popleft(): Remove and return an element from the left side. Raises an IndexError if the deque is empty.\n",
    "Peek at Elements:\n",
    "\n",
    "Access elements by index, e.g., deque_obj[0] for the first element. However, deques are not as efficient at random access as lists.\n",
    "Extend the Deque:\n",
    "\n",
    "extend(iterable): Extend the right side of the deque by appending elements from the iterable.\n",
    "extendleft(iterable): Extend the left side of the deque by appending elements from the iterable. Note that the series of left appends results in the elements being in reverse order compared to the original iterable.\n",
    "Other Operations:\n",
    "\n",
    "rotate(n): Rotate the deque n steps to the right. If n is negative, rotate to the left.\n",
    "clear(): Remove all elements from the deque.\n",
    "count(x): Count the number of deque elements equal to x.\n",
    "reverse(): Reverse the elements of the deque in-place.\n",
    "maxlen: Property to get the maximum size of the deque or None if unbounded.\n",
    "The deque is particularly useful in scenarios where you need quick append and pop operations from both ends of a collection, such as in breadth-first search algorithms or caching mechanisms. It's more efficient than a list for these operations due to its underlying implementation.\n"
   ]
  },
  {
   "cell_type": "markdown",
   "metadata": {},
   "source": []
  },
  {
   "cell_type": "markdown",
   "metadata": {},
   "source": []
  }
 ],
 "metadata": {
  "kernelspec": {
   "display_name": "base",
   "language": "python",
   "name": "python3"
  },
  "language_info": {
   "codemirror_mode": {
    "name": "ipython",
    "version": 3
   },
   "file_extension": ".py",
   "mimetype": "text/x-python",
   "name": "python",
   "nbconvert_exporter": "python",
   "pygments_lexer": "ipython3",
   "version": "3.11.4"
  },
  "orig_nbformat": 4
 },
 "nbformat": 4,
 "nbformat_minor": 2
}
