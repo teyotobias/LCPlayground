{
 "cells": [
  {
   "cell_type": "markdown",
   "metadata": {},
   "source": [
    "209. Minimum Size Subarray Sum\n",
    "\n",
    "Given an array of positive integers nums and a positive integer target, return the minimal length of a subarray whose sum is greater than or equal to target. If there is no such subarray, return 0 instead.\n",
    "\n",
    " \n",
    "\n",
    "Example 1:\n",
    "\n",
    "Input: target = 7, nums = [2,3,1,2,4,3]\n",
    "Output: 2\n",
    "Explanation: The subarray [4,3] has the minimal length under the problem constraint.\n",
    "Example 2:\n",
    "\n",
    "Input: target = 4, nums = [1,4,4]\n",
    "Output: 1\n",
    "Example 3:\n",
    "\n",
    "Input: target = 11, nums = [1,1,1,1,1,1,1,1]\n",
    "Output: 0\n",
    " \n",
    "\n",
    "Constraints:\n",
    "\n",
    "1 <= target <= 109\n",
    "1 <= nums.length <= 105\n",
    "1 <= nums[i] <= 104"
   ]
  }
 ],
 "metadata": {
  "language_info": {
   "name": "python"
  },
  "orig_nbformat": 4
 },
 "nbformat": 4,
 "nbformat_minor": 2
}
